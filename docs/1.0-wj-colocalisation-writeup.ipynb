{
 "cells": [
  {
   "cell_type": "markdown",
   "metadata": {},
   "source": [
    "# Colocalisation"
   ]
  },
  {
   "cell_type": "markdown",
   "metadata": {},
   "source": [
    "Is it possible to ascertain whether two traits are due to the same causal variant?\n",
    "\n",
    "This is the aim of colocalisation. This is calculated by independently computing the gene-set probabilities, and then calculating the cartesian product with a multiplication operation to form a colocalisation matrix. Summing along the diagonal entries gives the total evidence for colocalisation.\n",
    "\n",
    "Suppose the posterior probabilities for each trait $\\mathbf{a}$ and $\\mathbf{b}$ with respect to the same genotype are the vectors:\n",
    "\n",
    "$$\n",
    "\\mathbf{a}\n",
    "=\n",
    "\\begin{pmatrix}\n",
    " & a_{1}  & \\\\\n",
    " & \\vdots & \\\\\n",
    " & a_{i}  & \\\\\n",
    " & \\vdots & \\\\\n",
    " & a_{M}  &\n",
    "\\end{pmatrix}\n",
    ",\n",
    "\\quad\n",
    "\\mathbf{b}\n",
    "=\n",
    "\\begin{pmatrix}\n",
    " & b_{1}  & \\\\\n",
    " & \\vdots & \\\\\n",
    " & b_{i}  & \\\\\n",
    " & \\vdots & \\\\\n",
    " & b_{M}  &\n",
    "\\end{pmatrix}\n",
    "$$\n",
    "\n",
    "where $a_i$ and $b_i$ denotes the posterior probability that the $i$th candidate gene set is causal to trait $\\mathbf{a}$ and $\\mathbf{b}$ respectively\n",
    "\n",
    "The colocalisation matrix is defined as the Cartesian (also known as dyadic) product of these two vectors $\\mathbf{a}  \\otimes  \\mathbf{b}$. \n",
    "\n",
    "$$\n",
    "\\mathbf{a} \\otimes \\mathbf{b}\n",
    "=\n",
    "\\begin{pmatrix}\n",
    " a_{1}b_{1} &        &   \\dots    &        &  a_{1}b_{M}  \\\\\n",
    "            & \\ddots &            &        &              \\\\\n",
    " \\vdots     &        & a_{i}b_{i} &        &  \\vdots      \\\\\n",
    "            &        &            & \\ddots &              \\\\\n",
    " a_{M}b_{1} &        &   \\dots    &        & a_{M}b_{M}  \n",
    "\\end{pmatrix}\n",
    "$$\n",
    "\n",
    "an $M \\times M$ matrix.\n",
    "\n",
    "The sum $\\sum^{M}_{i=1}a_{i}b_{i}$ along the diagonal is the total evidence for colocalisation.\n",
    "\n",
    "\n"
   ]
  }
 ],
 "metadata": {
  "kernelspec": {
   "display_name": "Python 2",
   "language": "python",
   "name": "python2"
  },
  "language_info": {
   "codemirror_mode": {
    "name": "ipython",
    "version": 2
   },
   "file_extension": ".py",
   "mimetype": "text/x-python",
   "name": "python",
   "nbconvert_exporter": "python",
   "pygments_lexer": "ipython2",
   "version": "2.7.12"
  },
  "nav_menu": {},
  "toc": {
   "navigate_menu": true,
   "number_sections": true,
   "sideBar": false,
   "threshold": 6,
   "toc_cell": false,
   "toc_section_display": "block",
   "toc_window_display": false
  }
 },
 "nbformat": 4,
 "nbformat_minor": 0
}

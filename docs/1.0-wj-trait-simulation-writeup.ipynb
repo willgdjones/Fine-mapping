{
 "cells": [
  {
   "cell_type": "markdown",
   "metadata": {},
   "source": [
    "# Trait Simulation"
   ]
  },
  {
   "cell_type": "markdown",
   "metadata": {},
   "source": [
    "Given genotype data and an LD structure, simulate a trait which is linearly associated with a variant, or a set of variants. Here I generate a large $m \\times n$ matrix ($m$=number of samples, $n$=number of SNPs), with $0,1,2$ as elements.\n",
    "\n",
    "Then, I can choose a set of SNPs, and from these SNPs I generate a trait $y$ with a linear model:\n",
    "\n",
    "$$y = X\\beta + \\epsilon$$\n",
    "\n",
    "To calcuate the total variance explained, we take the variance of both sides:\n",
    "\n",
    "$$ Var(y) = \\beta^2 + Var(\\epsilon) $$\n",
    "\n",
    "since $Var(X\\beta) = \\beta^{2}Var(X)$ and we have normalised $Var(X)$ to be equal to 1.\n",
    "\n",
    "In this model we assume that the total variance is 1, and we specify the amount of genetic variance, $\\beta$, that exists. This is the variance explained purely by the genetic component. For each SNP in the set, $\\beta_i$, we provide the proportion of the genetic variance that this SNP explains into terms of a ratio. For example SNPs 1, 5 and 10 might be causal, but SNP 10 might have twice the effect of SNPs 1 and 5, whose effects are equal. In this case, the SNP effect ratios would be 1:1:2 respectively.\n",
    "\n",
    "To calculate the raw $\\beta$ values for the model, we notice that:\n",
    "\n",
    "$$ \\beta^2 = \\sum_{i}\\beta_i^2 = 1 $$\n",
    "\n",
    "and if each $\\beta$ has ratio $r_{i}$ then the ratios $\\beta_i = r_{i}u$ for some constant $u$.\n",
    "\n",
    "Thus,\n",
    "\n",
    "$$ \\beta^2 = \\sum_{i}\\beta_i^2 = \\sum_{i}(r_{i}u)^2 = u^2\\sum_{i}r_{i}^2  = 1 $$\n",
    "\n",
    "and so \n",
    "\n",
    "$$ u = \\frac{1}{\\sqrt{\\sum_{i}r_{i}^2}} $$\n",
    "\n",
    "Each $\\beta$ can then be calculated by $\\beta_i = ur_i$.\n",
    "\n",
    "For the example, the $\\beta$ scores for SNP 1, 5 and 10 would be 0.408, 0.408 and 0.816 respectively.\n",
    "\n",
    "Following this, I try to recover these sets of SNPs. I generate p-values for each SNP being associated with the trait, by individually building univariate linear models for each SNPs, as GWAS summary statistics are generated."
   ]
  }
 ],
 "metadata": {
  "kernelspec": {
   "display_name": "Python 2",
   "language": "python",
   "name": "python2"
  },
  "language_info": {
   "codemirror_mode": {
    "name": "ipython",
    "version": 2
   },
   "file_extension": ".py",
   "mimetype": "text/x-python",
   "name": "python",
   "nbconvert_exporter": "python",
   "pygments_lexer": "ipython2",
   "version": "2.7.12"
  },
  "nav_menu": {},
  "toc": {
   "navigate_menu": true,
   "number_sections": true,
   "sideBar": false,
   "threshold": 6,
   "toc_cell": false,
   "toc_section_display": "block",
   "toc_window_display": false
  }
 },
 "nbformat": 4,
 "nbformat_minor": 0
}

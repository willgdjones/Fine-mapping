{
 "cells": [
  {
   "cell_type": "markdown",
   "metadata": {},
   "source": [
    "# Initialisation"
   ]
  },
  {
   "cell_type": "markdown",
   "metadata": {},
   "source": [
    "## Trait simulation"
   ]
  },
  {
   "cell_type": "markdown",
   "metadata": {},
   "source": [
    "### Explanation"
   ]
  },
  {
   "cell_type": "markdown",
   "metadata": {},
   "source": [
    "Given genotype data and an LD structure, simulate a trait which is linearly associated with a variant, or a set of variants. Here I generate a large $m \\times n$ matrix ($m$=number of samples, $n$=number of SNPs), with $0,1,2$ as elements.\n",
    "\n",
    "Then, I can choose a set of SNPs, and from these SNPs I generate a trait $y$ with a linear model:\n",
    "\n",
    "$$y = X\\beta + \\epsilon$$\n",
    "\n",
    "To calcuate the total variance explained, we take the variance of both sides:\n",
    "\n",
    "$$ Var(y) = \\beta^2 + Var(\\epsilon) $$\n",
    "\n",
    "since $Var(X\\beta) = \\beta^{2}Var(X)$ and we have normalised $Var(X)$ to be equal to 1.\n",
    "\n",
    "In this model we assume that the total variance is 1, and we specify the amount of genetic variance, $\\beta$, that exists. This is the variance explained purely by the genetic component. For each SNP in the set, $\\beta_i$, we provide the proportion of the genetic variance that this SNP explains into terms of a ratio. For example SNPs 1, 5 and 10 might be causal, but SNP 10 might have twice the effect of SNPs 1 and 5, whose effects are equal. In this case, the SNP effect ratios would be 1:1:2 respectively.\n",
    "\n",
    "To calculate the raw $\\beta$ values for the model, we notice that:\n",
    "\n",
    "$$ \\beta^2 = \\sum_{i}\\beta_i^2 = 1 $$\n",
    "\n",
    "and if each $\\beta$ has ratio $r_{i}$ then the ratios $\\beta_i = r_{i}u$ for some constant $u$.\n",
    "\n",
    "Thus,\n",
    "\n",
    "$$ \\beta^2 = \\sum_{i}\\beta_i^2 = \\sum_{i}(r_{i}u)^2 = u^2\\sum_{i}r_{i}^2  = 1 $$\n",
    "\n",
    "and so \n",
    "\n",
    "$$ u = \\frac{1}{\\sqrt{\\sum_{i}r_{i}^2}} $$\n",
    "\n",
    "Each $\\beta$ can then be calculated by $\\beta_i = ur_i$.\n",
    "\n",
    "For the example, the $\\beta$ scores for SNP 1, 5 and 10 would be 0.408, 0.408 and 0.816 respectively.\n",
    "\n",
    "Following this, I try to recover these sets of SNPs. I generate p-values for each SNP being associated with the trait, by individually building univariate linear models for each SNPs, as GWAS summary statistics are generated."
   ]
  },
  {
   "cell_type": "markdown",
   "metadata": {},
   "source": [
    "### Implementation"
   ]
  },
  {
   "cell_type": "code",
   "execution_count": 3,
   "metadata": {
    "collapsed": false,
    "init_cell": true
   },
   "outputs": [],
   "source": [
    "import numpy\n",
    "import math\n",
    "from scipy import stats\n",
    "\n",
    "### Sample genotypes\n",
    "\n",
    "def simulate_genotype(n,m,geno_dist):\n",
    "    \"\"\"\n",
    "    Simulate a genotype of n samples and m causal SNPs with specified genotype distribution for (0,1,2).\n",
    "    \"\"\"\n",
    "    X=numpy.zeros([n,m])\n",
    "    for i in range(m):\n",
    "        X[:,i] = [numpy.random.choice(a=[0,1,2],p=geno_dist) for x in range(n)]\n",
    "    return numpy.array(X)\n",
    "\n",
    "###example\n",
    "# X = simulate_genotype(n=10000,m=30,geno_dist=[0.85,0.1,0.05])\n",
    "\n",
    "def simulate_traits(X,snp_ratios,beta_var):\n",
    "    \"\"\"\n",
    "    X is genotype information.\n",
    "    \n",
    "    beta_var is the total heteritability and must be between 0 and 1.\n",
    "    \n",
    "    snp_ratio is a dictionary where dictionary values signify the ratio of how much each snp explains \n",
    "    of the total heritability.\n",
    "    \n",
    "    For example beta_var = 0.6, snp_ratios = {3:1, 5:1, 7:2} means that the effect of SNP 7 is twice as great as\n",
    "    snp 3 and 5, whose effects are equal. In total the snps account for 60% of the observed variance.\n",
    "    \n",
    "    \"\"\"\n",
    "    \n",
    "    eps_var = 1 - beta_var\n",
    "    u = math.sqrt(1.0 /sum([x*x for x in snp_ratios.values()]))\n",
    "    snp_betas = dict([(key,snp_ratios[key]*u) for key in snp_ratios.keys()])\n",
    "    beta = snp_betas.values()\n",
    "    snps = snp_betas.keys()\n",
    "    eps_vector = numpy.array(numpy.random.normal(0,eps_var,X.shape[0]))\n",
    "    return numpy.add(numpy.dot(X[:,snps], beta), eps_vector)\n",
    "    \n",
    "# examples\n",
    "# y = simulate_traits(X,eps=0.5,snp_group={3: 5, 9: 3})\n",
    "\n",
    "def build_linear_models(X,y):\n",
    "    \"\"\"\n",
    "    Build univariate linear models for each SNP column in X against the trait y.\n",
    "    \"\"\"\n",
    "    return [stats.linregress(X[:,i],y) for i in range(X.shape[1])]\n",
    "\n",
    "# example\n",
    "# models1 = [x for x in build_linear_models(X,y)]\n",
    "\n",
    "def calc_effect_sizes(models):\n",
    "    \"\"\"\n",
    "    Calculate the effect sizes = beta / se(beta) of individual SNPs towards the traits.\n",
    "    Takes in a list of linear regression models.\n",
    "    \"\"\"\n",
    "    return [x.slope / x.stderr for x in models]\n",
    "\n",
    "# example\n",
    "# z1 = [x.slope / x.stderr for x in models1]\n",
    "\n"
   ]
  },
  {
   "cell_type": "markdown",
   "metadata": {},
   "source": [
    "### Example"
   ]
  },
  {
   "cell_type": "code",
   "execution_count": 7,
   "metadata": {
    "collapsed": false
   },
   "outputs": [
    {
     "name": "stdout",
     "output_type": "stream",
     "text": [
      "{1: 1} [((1,), 0.7151977442327604), ((1, 9), 0.011144475758772978), ((1, 27), 0.011059587115390538), ((1, 15), 0.010443963286867228), ((1, 3), 0.009697255568508157)]\n",
      "{1: 1, 3: 2} [((1, 3), 0.7113374399131928), ((0, 1, 3), 0.02040888065175947), ((1, 3, 5), 0.013594311436411549), ((1, 3, 24), 0.011614101749290817), ((1, 3, 20), 0.010116452089080952)]\n",
      "{1: 1, 3: 1, 15: 2} [((1, 3, 15), 0.7566426567767919), ((1, 3, 15, 26), 0.011297923303789231), ((1, 3, 12, 15), 0.010429172276523964), ((1, 3, 15, 29), 0.010381228567878356), ((1, 3, 15, 17), 0.010040912873146806)]\n",
      "{1: 1, 3: 1, 25: 2, 15: 1} [((1, 3, 15, 25), 0.99999999995717), ((1, 15, 25), 3.0169813085720823e-11), ((1, 6, 15, 25), 2.212610971441477e-12), ((1, 15, 19, 25), 1.4449443161910551e-12), ((1, 15, 18, 25), 5.09376008665021e-13)]\n"
     ]
    }
   ],
   "source": [
    "if __name__ == '__main__':\n",
    "    %reset -f\n",
    "    import sys\n",
    "    sys.path.append('/Users/fonz/Projects/Notebooks/Fine-mapping/src')\n",
    "    import models\n",
    "    from sklearn import preprocessing\n",
    "    import numpy\n",
    "    snp_ratios = [{1: 1}, {1: 1, 3: 2}, {1: 1, 3: 1, 15:2}, {1: 1, 3: 1, 15:1, 25:2}]\n",
    "\n",
    "    for r in snp_ratios:\n",
    "        n = 1000\n",
    "        m = 30\n",
    "\n",
    "        ### simulate genotypes\n",
    "        X = models.trait_simulation.simulate_genotype(n,m,geno_dist=[0.85,0.1,0.05])\n",
    "        ### scale columns\n",
    "        X = preprocessing.scale(X)\n",
    "\n",
    "        ### calculate LD matrix\n",
    "        LD_matrix = numpy.corrcoef(X,rowvar=0)\n",
    "\n",
    "        ### simulate traits\n",
    "        y = models.trait_simulation.simulate_traits(X,snp_ratios=r, beta_var=0.2)\n",
    "        ### scale traits\n",
    "        y = preprocessing.scale(y)\n",
    "\n",
    "        t_statistics = models.trait_simulation.build_linear_models(X,y)\n",
    "\n",
    "        beta = [x.slope for x in t_statistics]\n",
    "        se_beta = [x.stderr for x in t_statistics]\n",
    "\n",
    "        ###calcuate z\n",
    "\n",
    "        z =  numpy.divide(beta, se_beta)\n",
    "\n",
    "        simulated_effectsize_data = ([x*numpy.sqrt(n) for x in beta], LD_matrix, n)\n",
    "\n",
    "        gene_set_BFs = models.bayes_factors.calc_variant_set_BFs(simulated_effectsize_data,k=5,v=0.01)\n",
    "\n",
    "        gene_set_posteriors = models.bayes_factors.calc_posterior(gene_set_BFs)\n",
    "        print r, gene_set_posteriors[0:5]"
   ]
  }
 ],
 "metadata": {
  "kernelspec": {
   "display_name": "Python 2",
   "language": "python",
   "name": "python2"
  },
  "language_info": {
   "codemirror_mode": {
    "name": "ipython",
    "version": 2
   },
   "file_extension": ".py",
   "mimetype": "text/x-python",
   "name": "python",
   "nbconvert_exporter": "python",
   "pygments_lexer": "ipython2",
   "version": "2.7.12"
  },
  "nav_menu": {},
  "toc": {
   "navigate_menu": true,
   "number_sections": true,
   "sideBar": false,
   "threshold": 6,
   "toc_cell": false,
   "toc_section_display": "block",
   "toc_window_display": false
  }
 },
 "nbformat": 4,
 "nbformat_minor": 0
}

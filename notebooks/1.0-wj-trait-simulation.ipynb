{
 "cells": [
  {
   "cell_type": "code",
   "execution_count": 2,
   "metadata": {
    "collapsed": false,
    "init_cell": true
   },
   "outputs": [],
   "source": [
    "import numpy\n",
    "import math\n",
    "from scipy import stats\n",
    "\n",
    "### Sample genotypes\n",
    "\n",
    "def simulate_genotype(n,m,geno_dist):\n",
    "    \"\"\"\n",
    "    Simulate a genotype of n samples and m causal SNPs with specified genotype distribution for (0,1,2).\n",
    "    \"\"\"\n",
    "    X=numpy.zeros([n,m])\n",
    "    for i in range(m):\n",
    "        X[:,i] = [numpy.random.choice(a=[0,1,2],p=geno_dist) for x in range(n)]\n",
    "    return numpy.array(X)\n",
    "\n",
    "###example\n",
    "# X = simulate_genotype(n=10000,m=30,geno_dist=[0.85,0.1,0.05])\n",
    "\n",
    "def simulate_traits(X,snp_ratios,beta_var):\n",
    "    \"\"\"\n",
    "    X is genotype information.\n",
    "    \n",
    "    beta_var is the total heteritability and must be between 0 and 1.\n",
    "    \n",
    "    snp_ratio is a dictionary where dictionary values signify the ratio of how much each snp explains \n",
    "    of the total heritability.\n",
    "    \n",
    "    For example beta_var = 0.6, snp_ratios = {3:1, 5:1, 7:2} means that the effect of SNP 7 is twice as great as\n",
    "    snp 3 and 5, whose effects are equal. In total the snps account for 60% of the observed variance.\n",
    "    \n",
    "    \"\"\"\n",
    "    \n",
    "    eps_var = 1 - beta_var\n",
    "    u = math.sqrt(1.0 /sum([x*x for x in snp_ratios.values()]))\n",
    "    snp_betas = dict([(key,snp_ratios[key]*u) for key in snp_ratios.keys()])\n",
    "    beta = snp_betas.values()\n",
    "    snps = snp_betas.keys()\n",
    "    eps_vector = numpy.array(numpy.random.normal(0,eps_var,X.shape[0]))\n",
    "    return numpy.add(numpy.dot(X[:,snps], beta), eps_vector)\n",
    "    \n",
    "# examples\n",
    "# y = simulate_traits(X,eps=0.5,snp_group={3: 5, 9: 3})\n",
    "\n",
    "def build_linear_models(X,y):\n",
    "    \"\"\"\n",
    "    Build univariate linear models for each SNP column in X against the trait y.\n",
    "    \"\"\"\n",
    "    return [stats.linregress(X[:,i],y) for i in range(X.shape[1])]\n",
    "\n",
    "# example\n",
    "# models1 = [x for x in build_linear_models(X,y)]\n",
    "\n",
    "def calc_effect_sizes(models):\n",
    "    \"\"\"\n",
    "    Calculate the effect sizes = beta / se(beta) of individual SNPs towards the traits.\n",
    "    Takes in a list of linear regression models.\n",
    "    \"\"\"\n",
    "    return [x.slope / x.stderr for x in models]\n",
    "\n",
    "# example\n",
    "# z1 = [x.slope / x.stderr for x in models1]\n",
    "\n"
   ]
  },
  {
   "cell_type": "code",
   "execution_count": 3,
   "metadata": {
    "collapsed": false
   },
   "outputs": [
    {
     "name": "stdout",
     "output_type": "stream",
     "text": [
      "{1: 1} [((1,), 0.7082700099972974), ((1, 19), 0.01821090881787806), ((1, 18), 0.011527567628019852), ((1, 2), 0.010366443385654425), ((1, 3), 0.01022301541174574)]\n",
      "{1: 1, 3: 2} [((1, 3), 0.7188747687410962), ((1, 3, 26), 0.014024406316510411), ((1, 3, 19), 0.012173958033843859), ((1, 3, 29), 0.011746501880003903), ((1, 3, 5), 0.010475379654783725)]\n",
      "{1: 1, 3: 1, 15: 2} [((1, 3, 15), 0.7570155688211099), ((1, 3, 15, 18), 0.02069311370115804), ((1, 3, 15, 16), 0.009848020550322), ((1, 3, 15, 24), 0.009608673983263776), ((1, 3, 10, 15), 0.009457871327131884)]\n",
      "{1: 1, 3: 1, 25: 2, 15: 1} [((1, 3, 15, 25), 0.9999999999996076), ((1, 3, 25), 2.9758371832233627e-13), ((1, 3, 6, 25), 5.598048865018821e-15), ((1, 3, 5, 25), 5.583437085782278e-15), ((1, 3, 13, 25), 5.002678831134071e-15)]\n"
     ]
    }
   ],
   "source": [
    "if __name__ == '__main__':\n",
    "    %reset -f\n",
    "    import sys\n",
    "    sys.path.append('/Users/fonz/Projects/Notebooks/Fine-mapping/src')\n",
    "    import models\n",
    "    from sklearn import preprocessing\n",
    "    import numpy\n",
    "    snp_ratios = [{1: 1}, {1: 1, 3: 2}, {1: 1, 3: 1, 15:2}, {1: 1, 3: 1, 15:1, 25:2}]\n",
    "\n",
    "    for r in snp_ratios:\n",
    "        n = 1000\n",
    "        m = 30\n",
    "\n",
    "        ### simulate genotypes\n",
    "        X = models.trait_simulation.simulate_genotype(n,m,geno_dist=[0.85,0.1,0.05])\n",
    "        ### scale columns\n",
    "        X = preprocessing.scale(X)\n",
    "\n",
    "        ### calculate LD matrix\n",
    "        LD_matrix = numpy.corrcoef(X,rowvar=0)\n",
    "\n",
    "        ### simulate traits\n",
    "        y = models.trait_simulation.simulate_traits(X,snp_ratios=r, beta_var=0.2)\n",
    "        ### scale traits\n",
    "        y = preprocessing.scale(y)\n",
    "\n",
    "        t_statistics = models.trait_simulation.build_linear_models(X,y)\n",
    "\n",
    "        beta = [x.slope for x in t_statistics]\n",
    "        se_beta = [x.stderr for x in t_statistics]\n",
    "\n",
    "        ###calcuate z\n",
    "\n",
    "        z =  numpy.divide(beta, se_beta)\n",
    "\n",
    "        simulated_effectsize_data = ([x*numpy.sqrt(n) for x in beta], LD_matrix, n)\n",
    "\n",
    "        gene_set_BFs = models.bayes_factors.calc_variant_set_BFs(simulated_effectsize_data,k=5,v=0.01)\n",
    "\n",
    "        gene_set_posteriors = models.bayes_factors.calc_posterior(gene_set_BFs)\n",
    "        print r, gene_set_posteriors[0:5]"
   ]
  },
  {
   "cell_type": "code",
   "execution_count": null,
   "metadata": {
    "collapsed": true
   },
   "outputs": [],
   "source": []
  }
 ],
 "metadata": {
  "kernelspec": {
   "display_name": "Python 2",
   "language": "python",
   "name": "python2"
  },
  "language_info": {
   "codemirror_mode": {
    "name": "ipython",
    "version": 2
   },
   "file_extension": ".py",
   "mimetype": "text/x-python",
   "name": "python",
   "nbconvert_exporter": "python",
   "pygments_lexer": "ipython2",
   "version": "2.7.12"
  },
  "nav_menu": {},
  "toc": {
   "navigate_menu": true,
   "number_sections": true,
   "sideBar": false,
   "threshold": 6,
   "toc_cell": false,
   "toc_section_display": "block",
   "toc_window_display": false
  }
 },
 "nbformat": 4,
 "nbformat_minor": 0
}

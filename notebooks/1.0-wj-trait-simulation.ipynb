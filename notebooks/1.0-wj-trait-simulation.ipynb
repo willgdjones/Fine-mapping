{
 "cells": [
  {
   "cell_type": "markdown",
   "metadata": {},
   "source": [
    "# Initialisation"
   ]
  },
  {
   "cell_type": "code",
   "execution_count": 1,
   "metadata": {
    "code_folding": [],
    "collapsed": false,
    "init_cell": true
   },
   "outputs": [],
   "source": [
    "### Load modules and data\n",
    "\n",
    "import numpy as np\n",
    "import itertools as it\n",
    "import matplotlib.pyplot as plt\n",
    "import math\n",
    "from scipy import stats\n",
    "import pdb\n",
    "from sklearn import preprocessing\n",
    "import copy\n",
    "from unittest import *\n",
    "import itertools\n",
    "from bidict import bidict\n",
    "\n",
    "%matplotlib inline\n"
   ]
  },
  {
   "cell_type": "markdown",
   "metadata": {},
   "source": [
    "## Trait simulation"
   ]
  },
  {
   "cell_type": "markdown",
   "metadata": {},
   "source": [
    "### Explanation"
   ]
  },
  {
   "cell_type": "markdown",
   "metadata": {},
   "source": [
    "Given genotype data and an LD structure, simulate a trait which is linearly associated with a variant, or a set of variants. Here I generate a large $m \\times n$ matrix ($m$=number of samples, $n$=number of SNPs), with $0,1,2$ as elements.\n",
    "\n",
    "Then, I can choose a set of SNPs, and from these SNPs I generate a trait with a linear model. In this \n",
    "\n",
    "Following this, I try to recover these sets of SNPs. I generate p-values for each SNP being associated with the trait, by individually building univariate linear models for each SNPs, as I understand summary statistics are generated."
   ]
  },
  {
   "cell_type": "markdown",
   "metadata": {},
   "source": [
    "### Implementation"
   ]
  },
  {
   "cell_type": "code",
   "execution_count": 2,
   "metadata": {
    "collapsed": false,
    "init_cell": true
   },
   "outputs": [],
   "source": [
    "### Sample genotypes\n",
    "\n",
    "def simulate_genotype(n,m,geno_dist):\n",
    "    \"\"\"\n",
    "    Simulate a genotype of n samples and m causal SNPs with specified genotype distribution for (0,1,2).\n",
    "    \"\"\"\n",
    "    X=np.zeros([n,m])\n",
    "    for i in range(m):\n",
    "        X[:,i] = [np.random.choice(a=[0,1,2],p=geno_dist) for x in range(n)]\n",
    "    return np.array(X)\n",
    "\n",
    "###example\n",
    "# X = simulate_genotype(n=10000,m=30,geno_dist=[0.85,0.1,0.05])\n",
    "\n",
    "def simulate_traits(X,snp_ratios,beta_var):\n",
    "    \"\"\"\n",
    "    X is genotype information.\n",
    "    \n",
    "    beta_var is the total heteritability and must be between 0 and 1.\n",
    "    \n",
    "    snp_ratio is a dictionary where dictionary values signify the ratio of how much each snp explains \n",
    "    of the total heritability.\n",
    "    \n",
    "    For example beta_var = 0.6, snp_ratios = {3:1, 5:1, 7:2} means that the effect of SNP 7 is twice as great as\n",
    "    snp 3 and 5, whose effects are equal. In total the snps account for 60% of the observed variance.\n",
    "    \n",
    "    \"\"\"\n",
    "    \n",
    "    eps_var = 1 - beta_var\n",
    "    u = 1.0 /sum([x*x for x in snp_ratios.values()])\n",
    "    snp_betas = dict([(key,snp_ratios[key]*u) for key in snp_ratios.keys()])\n",
    "    beta = snp_betas.values()\n",
    "    snps = snp_betas.keys()\n",
    "    eps_vector = np.array(np.random.normal(0,eps_var,X.shape[0]))\n",
    "    return np.add(np.dot(X[:,snps], beta), eps_vector)\n",
    "    \n",
    "# examples\n",
    "# y = simulate_traits(X,eps=0.5,snp_group={3: 5, 9: 3})\n",
    "\n",
    "def build_linear_models(X,y):\n",
    "    \"\"\"\n",
    "    Build univariate linear models for each SNP column in X against the trait y.\n",
    "    \"\"\"\n",
    "    return [stats.linregress(X[:,i],y) for i in range(X.shape[1])]\n",
    "\n",
    "# example\n",
    "# models1 = [x for x in build_linear_models(X,y)]\n",
    "\n",
    "def calc_effect_sizes(models):\n",
    "    \"\"\"\n",
    "    Calculate the effect sizes = beta / se(beta) of individual SNPs towards the traits.\n",
    "    Takes in a list of linear regression models.\n",
    "    \"\"\"\n",
    "    return [x.slope / x.stderr for x in models]\n",
    "\n",
    "# example\n",
    "# z1 = [x.slope / x.stderr for x in models1]\n",
    "\n"
   ]
  },
  {
   "cell_type": "code",
   "execution_count": 32,
   "metadata": {
    "collapsed": false
   },
   "outputs": [
    {
     "data": {
      "text/plain": [
       "array([-0.43153459,  0.49052715, -0.0227256 ,  0.22849003,  0.57955308,\n",
       "       -0.25366741,  0.67519273,  1.23573824,  0.65796377,  0.04168645,\n",
       "        0.16002426,  0.31421654,  0.57864023,  0.53980968, -0.06382319,\n",
       "        0.73990191,  0.20510129,  0.60008869, -0.64440121, -0.13445157,\n",
       "        0.9668877 ,  0.04398962, -0.45669911, -0.01619706,  0.31258278,\n",
       "       -0.13836229,  0.03597163, -0.50855612, -0.13179047,  0.36871693,\n",
       "        0.76215456,  0.4110753 , -0.07871894, -0.97090611, -0.02204738,\n",
       "        0.28411843,  0.45376407,  0.23282093,  0.69939039,  0.04709341,\n",
       "        1.37494375,  0.1820865 , -0.01096379, -0.03834385, -0.14986318,\n",
       "       -0.52929852, -0.19012432, -0.04211845, -0.29511066, -0.43665341,\n",
       "       -0.17941963,  0.25640165, -0.12177037, -0.44700969,  0.90434867,\n",
       "        0.23900916,  0.26015724,  0.60927293,  0.31489041,  0.21704849,\n",
       "       -0.05008857,  0.20852738,  0.39062797,  0.14771659,  0.39508527,\n",
       "        0.42463729, -0.3491884 ,  0.62010677, -0.07521766,  0.53050449,\n",
       "        0.29100182, -0.15772009,  0.76932237,  0.3825343 , -0.02535083,\n",
       "       -0.08286679,  0.16500385,  0.7112791 ,  0.22157556,  0.64758945,\n",
       "        0.74648817,  0.08728385, -0.30200866, -0.51115147,  0.33872787,\n",
       "       -0.28939793,  0.30939677, -0.13981237,  0.03727709, -0.51863046,\n",
       "        0.58770645,  0.58253613,  0.41745936,  0.11917338, -0.63872851,\n",
       "        0.1884637 , -0.39925416,  0.10358742,  0.88678642,  0.68433197])"
      ]
     },
     "execution_count": 32,
     "metadata": {},
     "output_type": "execute_result"
    }
   ],
   "source": []
  },
  {
   "cell_type": "code",
   "execution_count": 19,
   "metadata": {
    "collapsed": false
   },
   "outputs": [
    {
     "data": {
      "text/plain": [
       "{3: 0.16666666666666666, 5: 0.16666666666666666, 10: 0.3333333333333333}"
      ]
     },
     "execution_count": 19,
     "metadata": {},
     "output_type": "execute_result"
    }
   ],
   "source": [
    "betas"
   ]
  },
  {
   "cell_type": "code",
   "execution_count": 14,
   "metadata": {
    "collapsed": false
   },
   "outputs": [
    {
     "data": {
      "text/plain": [
       "0.16666666666666666"
      ]
     },
     "execution_count": 14,
     "metadata": {},
     "output_type": "execute_result"
    }
   ],
   "source": []
  },
  {
   "cell_type": "code",
   "execution_count": null,
   "metadata": {
    "collapsed": true
   },
   "outputs": [],
   "source": []
  },
  {
   "cell_type": "code",
   "execution_count": 4,
   "metadata": {
    "collapsed": true
   },
   "outputs": [],
   "source": [
    "X = simulate_genotype(n=100,m=30,geno_dist=[0.85,0.1,0.05])"
   ]
  },
  {
   "cell_type": "code",
   "execution_count": 6,
   "metadata": {
    "collapsed": false
   },
   "outputs": [
    {
     "data": {
      "text/plain": [
       "100"
      ]
     },
     "execution_count": 6,
     "metadata": {},
     "output_type": "execute_result"
    }
   ],
   "source": [
    "simulate_traits(X,{3: 0.9, 5:0.4, 8:0.5},eps=0.5)"
   ]
  },
  {
   "cell_type": "markdown",
   "metadata": {},
   "source": [
    "### Example"
   ]
  },
  {
   "cell_type": "code",
   "execution_count": 67,
   "metadata": {
    "collapsed": false
   },
   "outputs": [
    {
     "name": "stdout",
     "output_type": "stream",
     "text": [
      "{1: 5} [((1,), 0.9050352515170708), ((1, 21), 0.003189029568249363), ((1, 25), 0.00318428426718765), ((1, 19), 0.003161674088441622), ((1, 4), 0.0031344545531106003)]\n",
      "{1: 5, 3: 6} [((1, 3), 0.9083736228868016), ((1, 3, 13), 0.0031873943086928548), ((1, 3, 10), 0.0031412730321097606), ((1, 3, 26), 0.003138966388610109), ((1, 3, 17), 0.0031380659516668206)]\n",
      "{1: 5, 3: 6, 15: 3} [((1, 3, 15), 0.9150552356086875), ((1, 3, 12, 15), 0.0031637810581904495), ((1, 3, 4, 15), 0.0031548310641800084), ((1, 3, 15, 19), 0.003154222576982418), ((1, 3, 15, 27), 0.0031541062648322094)]\n",
      "{1: 5, 3: 6, 25: 1, 15: 3} [((1, 3, 15, 25), 1.0), ((1, 3, 15), 3.0459784689226484e-28), ((1, 3, 9, 15), 1.0914551735029302e-30), ((1, 3, 13, 15), 1.083211641042767e-30), ((1, 3, 15, 21), 1.0756922570942834e-30)]\n"
     ]
    }
   ],
   "source": [
    "snp_groups = [{1: 5}, {1: 5, 3: 6}, {1: 5, 3: 6, 15:3}, {1: 5, 3: 6, 15:3, 25:1}]\n",
    "\n",
    "for g in snp_groups:\n",
    "    n = 10000\n",
    "\n",
    "    ### simulate genotypes\n",
    "    X = simulate_genotype(n=10000,m=30,geno_dist=[0.85,0.1,0.05])\n",
    "    ### scale columns\n",
    "    X = preprocessing.scale(X)\n",
    "\n",
    "    ### calculate LD matrix\n",
    "    LD_matrix = np.corrcoef(X,rowvar=0)\n",
    "\n",
    "    ### simulate traits\n",
    "    y = simulate_traits(X,eps=0.5,snp_group=g)\n",
    "    ### scale traits\n",
    "    y = preprocessing.scale(y)\n",
    "\n",
    "    t_statistics = build_linear_models(X,y)\n",
    "\n",
    "    beta = [x.slope for x in t_statistics]\n",
    "    se_beta = [x.stderr for x in t_statistics]\n",
    "\n",
    "    ###calcuate z\n",
    "\n",
    "    z =  np.divide(beta, se_beta)\n",
    "\n",
    "    simulated_effectsize_data = ([x*np.sqrt(n) for x in beta], LD_matrix, n)\n",
    "\n",
    "    gene_set_BFs = calc_variant_set_BFs(simulated_effectsize_data,k=5,v=0.01)\n",
    "\n",
    "    gene_set_posteriors = calc_posterior(gene_set_BFs)\n",
    "    print g, gene_set_posteriors[0:5]"
   ]
  }
 ],
 "metadata": {
  "kernelspec": {
   "display_name": "Python 2",
   "language": "python",
   "name": "python2"
  },
  "language_info": {
   "codemirror_mode": {
    "name": "ipython",
    "version": 2
   },
   "file_extension": ".py",
   "mimetype": "text/x-python",
   "name": "python",
   "nbconvert_exporter": "python",
   "pygments_lexer": "ipython2",
   "version": "2.7.12"
  },
  "nav_menu": {},
  "toc": {
   "navigate_menu": true,
   "number_sections": true,
   "sideBar": false,
   "threshold": 6,
   "toc_cell": false,
   "toc_section_display": "block",
   "toc_window_display": false
  }
 },
 "nbformat": 4,
 "nbformat_minor": 0
}

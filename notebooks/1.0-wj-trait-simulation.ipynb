{
 "cells": [
  {
   "cell_type": "markdown",
   "metadata": {},
   "source": [
    "# Initialisation"
   ]
  },
  {
   "cell_type": "code",
   "execution_count": 1,
   "metadata": {
    "code_folding": [],
    "collapsed": false,
    "init_cell": true
   },
   "outputs": [],
   "source": [
    "### Load modules and data\n",
    "\n",
    "import numpy as np\n",
    "import itertools as it\n",
    "import matplotlib.pyplot as plt\n",
    "import math\n",
    "from scipy import stats\n",
    "import pdb\n",
    "from sklearn import preprocessing\n",
    "import copy\n",
    "from unittest import *\n",
    "import itertools\n",
    "from bidict import bidict\n",
    "\n",
    "%matplotlib inline\n"
   ]
  },
  {
   "cell_type": "markdown",
   "metadata": {},
   "source": [
    "## Trait simulation"
   ]
  },
  {
   "cell_type": "markdown",
   "metadata": {},
   "source": [
    "### Explanation"
   ]
  },
  {
   "cell_type": "markdown",
   "metadata": {},
   "source": [
    "Given genotype data and an LD structure, simulate a trait which is linearly associated with a variant, or a set of variants. Here I generate a large $m \\times n$ matrix ($m$=number of samples, $n$=number of SNPs), with $0,1,2$ as elements.\n",
    "\n",
    "Then, I can choose a set of SNPs, and from these SNPs I generate a trait $y$ with a linear model:\n",
    "\n",
    "$$y = X\\beta + \\epsilon$$\n",
    "\n",
    "To calcuate the total variance explained, we take the variance of both sides:\n",
    "\n",
    "$$ Var(y) = \\beta^2 + Var(\\epsilon) $$\n",
    "\n",
    "since $Var(X\\beta) = \\beta^{2}Var(X)$ and we have normalised $Var(X)$ to be equal to 1.\n",
    "\n",
    "In this model we assume that the total variance is 1, and we specify the amount of genetic variance, $\\beta$, that exists. This is the variance explained purely by the genetic component. For each SNP in the set, $\\beta_i$, we provide the proportion of the genetic variance that this SNP explains into terms of a ratio. For example SNPs 1, 5 and 10 might be causal, but SNP 10 might have twice the effect of SNPs 1 and 5, whose effects are equal. In this case, the SNP effect ratios would be 1:1:2 respectively.\n",
    "\n",
    "To calculate the raw $\\beta$ values for the model, we notice that:\n",
    "\n",
    "$$ \\beta^2 = \\sum_{i}\\beta_i^2 = 1 $$\n",
    "\n",
    "and if each $\\beta$ has ratio $r_{i}$ then the ratios $\\beta_i = r_{i}u$ for some constant $u$.\n",
    "\n",
    "Thus,\n",
    "\n",
    "$$ \\beta^2 = \\sum_{i}\\beta_i^2 = \\sum_{i}(r_{i}u)^2 = u^2\\sum_{i}r_{i}^2  = 1 $$\n",
    "\n",
    "and so \n",
    "\n",
    "$$ u = \\frac{1}{\\sqrt{\\sum_{i}r_{i}^2}} $$\n",
    "\n",
    "Each $\\beta$ can then be calculated by $\\beta_i = ur_i$.\n",
    "\n",
    "For the example, the $\\beta$ scores for SNP 1, 5 and 10 would be 0.408, 0.408 and 0.816 respectively.\n",
    "\n",
    "Following this, I try to recover these sets of SNPs. I generate p-values for each SNP being associated with the trait, by individually building univariate linear models for each SNPs, as GWAS summary statistics are generated."
   ]
  },
  {
   "cell_type": "markdown",
   "metadata": {},
   "source": [
    "### Implementation"
   ]
  },
  {
   "cell_type": "code",
   "execution_count": 33,
   "metadata": {
    "collapsed": false,
    "init_cell": true
   },
   "outputs": [],
   "source": [
    "### Sample genotypes\n",
    "\n",
    "def simulate_genotype(n,m,geno_dist):\n",
    "    \"\"\"\n",
    "    Simulate a genotype of n samples and m causal SNPs with specified genotype distribution for (0,1,2).\n",
    "    \"\"\"\n",
    "    X=np.zeros([n,m])\n",
    "    for i in range(m):\n",
    "        X[:,i] = [np.random.choice(a=[0,1,2],p=geno_dist) for x in range(n)]\n",
    "    return np.array(X)\n",
    "\n",
    "###example\n",
    "# X = simulate_genotype(n=10000,m=30,geno_dist=[0.85,0.1,0.05])\n",
    "\n",
    "def simulate_traits(X,snp_ratios,beta_var):\n",
    "    \"\"\"\n",
    "    X is genotype information.\n",
    "    \n",
    "    beta_var is the total heteritability and must be between 0 and 1.\n",
    "    \n",
    "    snp_ratio is a dictionary where dictionary values signify the ratio of how much each snp explains \n",
    "    of the total heritability.\n",
    "    \n",
    "    For example beta_var = 0.6, snp_ratios = {3:1, 5:1, 7:2} means that the effect of SNP 7 is twice as great as\n",
    "    snp 3 and 5, whose effects are equal. In total the snps account for 60% of the observed variance.\n",
    "    \n",
    "    \"\"\"\n",
    "    \n",
    "    eps_var = 1 - beta_var\n",
    "    u = math.sqrt(1.0 /sum([x*x for x in snp_ratios.values()]))\n",
    "    snp_betas = dict([(key,snp_ratios[key]*u) for key in snp_ratios.keys()])\n",
    "    beta = snp_betas.values()\n",
    "    snps = snp_betas.keys()\n",
    "    eps_vector = np.array(np.random.normal(0,eps_var,X.shape[0]))\n",
    "    return np.add(np.dot(X[:,snps], beta), eps_vector)\n",
    "    \n",
    "# examples\n",
    "# y = simulate_traits(X,eps=0.5,snp_group={3: 5, 9: 3})\n",
    "\n",
    "def build_linear_models(X,y):\n",
    "    \"\"\"\n",
    "    Build univariate linear models for each SNP column in X against the trait y.\n",
    "    \"\"\"\n",
    "    return [stats.linregress(X[:,i],y) for i in range(X.shape[1])]\n",
    "\n",
    "# example\n",
    "# models1 = [x for x in build_linear_models(X,y)]\n",
    "\n",
    "def calc_effect_sizes(models):\n",
    "    \"\"\"\n",
    "    Calculate the effect sizes = beta / se(beta) of individual SNPs towards the traits.\n",
    "    Takes in a list of linear regression models.\n",
    "    \"\"\"\n",
    "    return [x.slope / x.stderr for x in models]\n",
    "\n",
    "# example\n",
    "# z1 = [x.slope / x.stderr for x in models1]\n",
    "\n"
   ]
  },
  {
   "cell_type": "markdown",
   "metadata": {},
   "source": [
    "### Example"
   ]
  },
  {
   "cell_type": "code",
   "execution_count": 67,
   "metadata": {
    "collapsed": false
   },
   "outputs": [
    {
     "name": "stdout",
     "output_type": "stream",
     "text": [
      "{1: 5} [((1,), 0.9050352515170708), ((1, 21), 0.003189029568249363), ((1, 25), 0.00318428426718765), ((1, 19), 0.003161674088441622), ((1, 4), 0.0031344545531106003)]\n",
      "{1: 5, 3: 6} [((1, 3), 0.9083736228868016), ((1, 3, 13), 0.0031873943086928548), ((1, 3, 10), 0.0031412730321097606), ((1, 3, 26), 0.003138966388610109), ((1, 3, 17), 0.0031380659516668206)]\n",
      "{1: 5, 3: 6, 15: 3} [((1, 3, 15), 0.9150552356086875), ((1, 3, 12, 15), 0.0031637810581904495), ((1, 3, 4, 15), 0.0031548310641800084), ((1, 3, 15, 19), 0.003154222576982418), ((1, 3, 15, 27), 0.0031541062648322094)]\n",
      "{1: 5, 3: 6, 25: 1, 15: 3} [((1, 3, 15, 25), 1.0), ((1, 3, 15), 3.0459784689226484e-28), ((1, 3, 9, 15), 1.0914551735029302e-30), ((1, 3, 13, 15), 1.083211641042767e-30), ((1, 3, 15, 21), 1.0756922570942834e-30)]\n"
     ]
    }
   ],
   "source": [
    "snp_groups = [{1: 5}, {1: 5, 3: 6}, {1: 5, 3: 6, 15:3}, {1: 5, 3: 6, 15:3, 25:1}]\n",
    "\n",
    "for g in snp_groups:\n",
    "    n = 10000\n",
    "\n",
    "    ### simulate genotypes\n",
    "    X = simulate_genotype(n=10000,m=30,geno_dist=[0.85,0.1,0.05])\n",
    "    ### scale columns\n",
    "    X = preprocessing.scale(X)\n",
    "\n",
    "    ### calculate LD matrix\n",
    "    LD_matrix = np.corrcoef(X,rowvar=0)\n",
    "\n",
    "    ### simulate traits\n",
    "    y = simulate_traits(X,eps=0.5,snp_group=g)\n",
    "    ### scale traits\n",
    "    y = preprocessing.scale(y)\n",
    "\n",
    "    t_statistics = build_linear_models(X,y)\n",
    "\n",
    "    beta = [x.slope for x in t_statistics]\n",
    "    se_beta = [x.stderr for x in t_statistics]\n",
    "\n",
    "    ###calcuate z\n",
    "\n",
    "    z =  np.divide(beta, se_beta)\n",
    "\n",
    "    simulated_effectsize_data = ([x*np.sqrt(n) for x in beta], LD_matrix, n)\n",
    "\n",
    "    gene_set_BFs = calc_variant_set_BFs(simulated_effectsize_data,k=5,v=0.01)\n",
    "\n",
    "    gene_set_posteriors = calc_posterior(gene_set_BFs)\n",
    "    print g, gene_set_posteriors[0:5]"
   ]
  }
 ],
 "metadata": {
  "kernelspec": {
   "display_name": "Python 2",
   "language": "python",
   "name": "python2"
  },
  "language_info": {
   "codemirror_mode": {
    "name": "ipython",
    "version": 2
   },
   "file_extension": ".py",
   "mimetype": "text/x-python",
   "name": "python",
   "nbconvert_exporter": "python",
   "pygments_lexer": "ipython2",
   "version": "2.7.12"
  },
  "nav_menu": {},
  "toc": {
   "navigate_menu": true,
   "number_sections": true,
   "sideBar": false,
   "threshold": 6,
   "toc_cell": false,
   "toc_section_display": "block",
   "toc_window_display": false
  }
 },
 "nbformat": 4,
 "nbformat_minor": 0
}

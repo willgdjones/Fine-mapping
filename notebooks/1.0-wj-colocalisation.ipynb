{
 "cells": [
  {
   "cell_type": "markdown",
   "metadata": {},
   "source": [
    "# Initialisation"
   ]
  },
  {
   "cell_type": "code",
   "execution_count": 1,
   "metadata": {
    "code_folding": [],
    "collapsed": false,
    "init_cell": true
   },
   "outputs": [],
   "source": [
    "### Load modules and data\n",
    "\n",
    "import numpy as np\n",
    "import itertools as it\n",
    "import matplotlib.pyplot as plt\n",
    "import math\n",
    "from scipy import stats\n",
    "import pdb\n",
    "from sklearn import preprocessing\n",
    "import copy\n",
    "from unittest import *\n",
    "import itertools\n",
    "from bidict import bidict\n",
    "\n",
    "%matplotlib inline\n"
   ]
  },
  {
   "cell_type": "markdown",
   "metadata": {},
   "source": [
    "# Colocalisation"
   ]
  },
  {
   "cell_type": "markdown",
   "metadata": {},
   "source": [
    "Is it possible to ascertain whether two traits are due to the same causal variant?\n",
    "\n",
    "This is the aim of colocalisation. This is calculated by independently computing the gene-set probabilities, and then calculating the cartesian product with a multiplication operation to form a colocalisation matrix. Summing along the diagonal entries gives the total evidence for colocalisation.\n",
    "\n",
    "Suppose the posterior probabilities for each trait $\\mathbf{a}$ and $\\mathbf{b}$ with respect to the same genotype are the vectors:\n",
    "\n",
    "$$\n",
    "\\mathbf{a}\n",
    "=\n",
    "\\begin{pmatrix}\n",
    " & a_{1}  & \\\\\n",
    " & \\vdots & \\\\\n",
    " & a_{i}  & \\\\\n",
    " & \\vdots & \\\\\n",
    " & a_{M}  &\n",
    "\\end{pmatrix}\n",
    ",\n",
    "\\quad\n",
    "\\mathbf{b}\n",
    "=\n",
    "\\begin{pmatrix}\n",
    " & b_{1}  & \\\\\n",
    " & \\vdots & \\\\\n",
    " & b_{i}  & \\\\\n",
    " & \\vdots & \\\\\n",
    " & b_{M}  &\n",
    "\\end{pmatrix}\n",
    "$$\n",
    "\n",
    "where $a_i$ and $b_i$ denotes the posterior probability that the $i$th candidate gene set is causal to trait $\\mathbf{a}$ and $\\mathbf{b}$ respectively\n",
    "\n",
    "The colocalisation matrix is defined as the Cartesian (also known as dyadic) product of these two vectors $\\mathbf{a}  \\unicode{x25E6}  \\mathbf{b}$. \n",
    "\n",
    "$$\n",
    "\\mathbf{a} \\unicode{x25E6} \\mathbf{b}\n",
    "=\n",
    "\\begin{pmatrix}\n",
    " a_{1}b_{1} &        &   \\dots    &        &  a_{1}b_{M}  \\\\\n",
    "            & \\ddots &            &        &              \\\\\n",
    " \\vdots     &        & a_{i}b_{i} &        &  \\vdots      \\\\\n",
    "            &        &            & \\ddots &              \\\\\n",
    " a_{M}b_{1} &        &   \\dots    &        & a_{M}b_{M}  \n",
    "\\end{pmatrix}\n",
    "$$\n",
    "\n",
    "an $M \\times M$ matrix.\n",
    "\n",
    "The sum $\\sum^{M}_{i=1}a_{i}b_{i}$ along the diagonal is the total evidence for colocalisation.\n",
    "\n",
    "\n"
   ]
  },
  {
   "cell_type": "code",
   "execution_count": 62,
   "metadata": {
    "code_folding": [],
    "collapsed": false
   },
   "outputs": [],
   "source": [
    "def is_colocalised(X, trait1, trait2,db=0):\n",
    "    \"\"\"\n",
    "    With respect to a shared genotype X, Determine whether trait1 and trait2 are colocalised.\n",
    "    I.e. whether there is evidence that they share a genetic basis.\n",
    "    \"\"\"\n",
    "\n",
    "    ### generate individual linear models\n",
    "    models1 = build_linear_models(X,y1)\n",
    "    models2 = build_linear_models(X,y2)\n",
    "\n",
    "    ### pull out slope and standard error terms.\n",
    "    beta1 = [x.slope for x in models1]\n",
    "    se_beta1 = [x.stderr for x in models1]\n",
    "\n",
    "    beta2 = [x.slope for x in models2]\n",
    "    se_beta2 = [x.stderr for x in models2]\n",
    "\n",
    "    ### calculate z scores\n",
    "    simulated_effectsize_data1 = ([x*np.sqrt(n) for x in beta1], LD_matrix, n)\n",
    "    simulated_effectsize_data2 = ([x*np.sqrt(n) for x in beta2], LD_matrix, n)\n",
    "\n",
    "    ### generate the gene set Bayes Factors\n",
    "    gene_set_BFs1 = calc_variant_set_BFs(simulated_effectsize_data1,k=4,v=0.01)\n",
    "    gene_set_BFs2 = calc_variant_set_BFs(simulated_effectsize_data2,k=4,v=0.01)\n",
    "    \n",
    "\n",
    "    ### calculate the posteriors\n",
    "    gene_set_posteriors1 = calc_posterior(gene_set_BFs1)\n",
    "    gene_set_posteriors2 = calc_posterior(gene_set_BFs2)\n",
    "    \n",
    "    if db == 1: \n",
    "        \n",
    "        print gene_set_BFs1[0:10]\n",
    "        print gene_set_BFs2[0:10]\n",
    "        \n",
    "        print gene_set_posteriors1[0:10]\n",
    "        print gene_set_posteriors2[0:10]\n",
    "\n",
    "\n",
    "    ### sort by posterior size\n",
    "    gene_set_posteriors1.sort(key=lambda x: x[0], reverse=False)\n",
    "    gene_set_posteriors2.sort(key=lambda x: x[0], reverse=False)\n",
    "\n",
    "    ### select just toe posteriors\n",
    "    posteriors1 = [x[1] for x in gene_set_posteriors1]\n",
    "    posteriors2 = [x[1] for x in gene_set_posteriors2]\n",
    "\n",
    "    ### generate cartesian product from the posteriors\n",
    "    cart_product = list(itertools.product(posteriors1,posteriors2))\n",
    "\n",
    "    gene_set_len1 = len(gene_set_posteriors1)\n",
    "    gene_set_len2 = len(gene_set_posteriors2)\n",
    "\n",
    "    ### calculate colocalisation posteriors with a specificed scoring function.\n",
    "    colocalisations = np.array(map(lambda x: min(x[0],x[1]), cart_product)).reshape(gene_set_len1,gene_set_len2)\n",
    "\n",
    "\n",
    "    ### pull out sorted set list\n",
    "    sorted_setlist1 = [x[0] for x in gene_set_posteriors1]\n",
    "    sorted_setlist2 = [x[0] for x in gene_set_posteriors2]\n",
    "\n",
    "    if db == 1:\n",
    "        \n",
    "        ###  create bidirectional map from gene_set to positon in colocalisation array\n",
    "        setlist_1map = bidict([(sorted_setlist1[i],i) for i in range(len(sorted_setlist1))])\n",
    "        setlist_2map = bidict([(sorted_setlist1[i],i) for i in range(len(sorted_setlist2))])\n",
    "\n",
    "        bf_1map = dict(gene_set_BFs1)\n",
    "        bf_2map = dict(gene_set_BFs2)\n",
    "\n",
    "\n",
    "        posterior1_map = dict(gene_set_posteriors1)\n",
    "        posterior2_map = dict(gene_set_posteriors2)\n",
    "        pdb.set_trace()\n",
    "\n",
    "    ### output total evidence for colocalisation\n",
    "    return sum([colocalisations[i][i] for i in range(colocalisations.shape[0])])"
   ]
  },
  {
   "cell_type": "code",
   "execution_count": 69,
   "metadata": {
    "collapsed": false
   },
   "outputs": [
    {
     "name": "stdout",
     "output_type": "stream",
     "text": [
      "({8: 6}, {8: 6}) True\n",
      "({8: 6}, {8: 10}) True\n",
      "({8: 6}, {10: 6}) False\n",
      "({8: 6, 10: 4}, {8: 6, 10: 4}) True\n",
      "({8: 6, 10: 4}, {8: 6, 10: 8}) True\n",
      "({8: 6, 10: 4}, {8: 6, 15: 4}) False\n",
      "({8: 6, 10: 4, 12: 3}, {8: 6, 10: 4, 12: 3}) True\n",
      "({8: 6, 10: 4, 12: 3}, {8: 6, 10: 4, 12: 8}) True\n",
      "({8: 6, 10: 4, 12: 3}, {8: 6, 10: 4, 15: 3}) False\n"
     ]
    }
   ],
   "source": [
    "gene_sets = [({8:6},{8:6}),\n",
    "             ({8:6},{8:10}),\n",
    "             ({8:6},{10:6}),\n",
    "             ({8:6, 10:4},{8:6, 10:4}),\n",
    "             ({8:6, 10:4},{8:6, 10:8}),\n",
    "             ({8:6, 10:4},{8:6, 15:4}),\n",
    "             ({8:6, 10:4, 12:3},{8:6, 10:4, 12:3}),\n",
    "             ({8:6, 10:4, 12:3},{8:6, 10:4, 12:8}),\n",
    "             ({8:6, 10:4, 12:3},{8:6, 10:4, 15:3}),\n",
    "            ]\n",
    "\n",
    "for g in gene_sets:\n",
    "    ### set sample size\n",
    "    n = 10000\n",
    "\n",
    "    ### simulate genotypes and scale columns\n",
    "    X = preprocessing.scale(simulate_genotype(n, 30, (0.85, 0.1, 0.05)))\n",
    "\n",
    "    ### calculate LD matrix\n",
    "    LD_matrix = np.corrcoef(X,rowvar=0)\n",
    "\n",
    "\n",
    "    ### simulate two traits and scale columns\n",
    "    y1 = preprocessing.scale(simulate_traits(X, g[0]))\n",
    "    y2 = preprocessing.scale(simulate_traits(X, g[1]))\n",
    "\n",
    "    print g, is_colocalised(X,y1,y2,db=0) > 0.6"
   ]
  },
  {
   "cell_type": "code",
   "execution_count": 24,
   "metadata": {
    "collapsed": false
   },
   "outputs": [
    {
     "name": "stdout",
     "output_type": "stream",
     "text": [
      "0.0\n",
      "CPU times: user 364 ms, sys: 7.86 ms, total: 372 ms\n",
      "Wall time: 371 ms\n"
     ]
    }
   ],
   "source": [
    "%%time\n"
   ]
  }
 ],
 "metadata": {
  "kernelspec": {
   "display_name": "Python 2",
   "language": "python",
   "name": "python2"
  },
  "language_info": {
   "codemirror_mode": {
    "name": "ipython",
    "version": 2
   },
   "file_extension": ".py",
   "mimetype": "text/x-python",
   "name": "python",
   "nbconvert_exporter": "python",
   "pygments_lexer": "ipython2",
   "version": "2.7.12"
  },
  "nav_menu": {},
  "toc": {
   "navigate_menu": true,
   "number_sections": true,
   "sideBar": false,
   "threshold": 6,
   "toc_cell": false,
   "toc_section_display": "block",
   "toc_window_display": false
  }
 },
 "nbformat": 4,
 "nbformat_minor": 0
}

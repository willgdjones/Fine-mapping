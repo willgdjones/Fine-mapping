{
 "cells": [
  {
   "cell_type": "markdown",
   "metadata": {},
   "source": [
    "# Introduction"
   ]
  },
  {
   "cell_type": "markdown",
   "metadata": {},
   "source": [
    "In this notebook I implement a basic fine-mapping method."
   ]
  },
  {
   "cell_type": "markdown",
   "metadata": {},
   "source": [
    "### Load modules and data"
   ]
  },
  {
   "cell_type": "code",
   "execution_count": 6,
   "metadata": {
    "collapsed": false
   },
   "outputs": [],
   "source": [
    "import numpy\n",
    "import itertools as it\n",
    "import math\n",
    "\n",
    "\n",
    "s_tss_1=numpy.load('summary_stats_g1_tss60.npy')[0]\n",
    "s_tss_2=numpy.load('summary_stats_g2_tss60.npy')[0]\n",
    "LD_tss_1=numpy.load('LD_g1_TSS60.npy')\n",
    "LD_tss_2=numpy.load('LD_g2_TSS60.npy')"
   ]
  },
  {
   "cell_type": "markdown",
   "metadata": {},
   "source": [
    "### Generate z arrays"
   ]
  },
  {
   "cell_type": "code",
   "execution_count": 2,
   "metadata": {
    "collapsed": false
   },
   "outputs": [],
   "source": [
    "z1 = numpy.array(numpy.divide(s_tss_1['beta'],numpy.sqrt(s_tss_1['var_beta'])))\n",
    "z2 = numpy.array(numpy.divide(s_tss_2['beta'],numpy.sqrt(s_tss_1['var_beta'])))\n",
    "z1 = numpy.ndarray.flatten(z1)\n",
    "z2 = numpy.ndarray.flatten(z2)"
   ]
  },
  {
   "cell_type": "markdown",
   "metadata": {},
   "source": [
    "### Create selection of SNPs"
   ]
  },
  {
   "cell_type": "code",
   "execution_count": 3,
   "metadata": {
    "collapsed": false
   },
   "outputs": [],
   "source": [
    "def select_snps(z, subset):\n",
    "    return [z[i] for i in subset]\n",
    "\n",
    "#example\n",
    "# for subset in it.combinations(range(len(z1)),3):\n",
    "#     print subset, select_snps(z1, subset)    "
   ]
  },
  {
   "cell_type": "markdown",
   "metadata": {},
   "source": [
    "### Select covariance submatrix"
   ]
  },
  {
   "cell_type": "code",
   "execution_count": 4,
   "metadata": {
    "collapsed": false
   },
   "outputs": [],
   "source": [
    "def select_cov(cov, subset):\n",
    "    return cov[numpy.ix_(subset,subset)]\n",
    "\n",
    "#example   \n",
    "#select_cov(LD_tss_1, (0,1,5))"
   ]
  },
  {
   "cell_type": "markdown",
   "metadata": {},
   "source": [
    "### Calculate Bayes Factor"
   ]
  },
  {
   "cell_type": "code",
   "execution_count": 22,
   "metadata": {
    "collapsed": false
   },
   "outputs": [
    {
     "data": {
      "text/plain": [
       "3.5062534142909358"
      ]
     },
     "execution_count": 22,
     "metadata": {},
     "output_type": "execute_result"
    }
   ],
   "source": [
    "def calc_BF(z, cov, v,n):\n",
    "    z = numpy.matrix(z)\n",
    "    z = z.T\n",
    "    v = numpy.matrix(v)\n",
    "    coeff = 1. / math.sqrt(numpy.linalg.det((numpy.matrix(numpy.eye(len(z))) + n * numpy.matrix(v) * numpy.matrix(cov)).I))\n",
    "    exponent = 0.5* z.T * numpy.matrix((n*v.I + cov)).I * z\n",
    "    return numpy.array(coeff * numpy.exp(exponent))[0][0]\n",
    "\n",
    "# example\n",
    "subset = (0,1,5,8)\n",
    "cov = select_cov(LD_tss_1, subset)\n",
    "z = select_snps(z1, subset)\n",
    "v = numpy.eye(len(z))/1000\n",
    "n = 1000\n",
    "calc_BF(z,cov,v,n)\n",
    "\n",
    "\n",
    "    \n",
    "    "
   ]
  },
  {
   "cell_type": "code",
   "execution_count": 28,
   "metadata": {
    "collapsed": false
   },
   "outputs": [
    {
     "data": {
      "text/plain": [
       "matrix([[ 1000.,     0.,     0.,     0.],\n",
       "        [    0.,  1000.,     0.,     0.],\n",
       "        [    0.,     0.,  1000.,     0.],\n",
       "        [    0.,     0.,     0.,  1000.]])"
      ]
     },
     "execution_count": 28,
     "metadata": {},
     "output_type": "execute_result"
    }
   ],
   "source": [
    "numpy.matrix(v).I"
   ]
  },
  {
   "cell_type": "code",
   "execution_count": 30,
   "metadata": {
    "collapsed": false,
    "scrolled": true
   },
   "outputs": [],
   "source": [
    "def choose_variant_set(data,k,v):\n",
    "    results = []\n",
    "    for i in range(1,k):\n",
    "        for subset in it.combinations(range(len(data[0])),i):\n",
    "            z = select_snps(data[0], subset)\n",
    "            cov = select_cov(data[1],subset)\n",
    "            n = data[2]\n",
    "            v_matrix = numpy.eye(len(z)) * v\n",
    "            results.append((subset, calc_BF(z, cov,v_matrix,n)))\n",
    "    results.sort(key=lambda x: x[1], reverse=True)\n",
    "    return results[0:10]\n",
    "\n",
    "k=5\n",
    "data1 = (z1, LD_tss_1,10000)\n",
    "data2 = (z2, LD_tss_2,1000)\n",
    "v = 0.000001\n",
    "    \n",
    "set1 = choose_variant_set(data1,k,v)\n",
    "set2 = choose_variant_set(data2,k,v)"
   ]
  },
  {
   "cell_type": "code",
   "execution_count": 31,
   "metadata": {
    "collapsed": false
   },
   "outputs": [
    {
     "data": {
      "text/plain": [
       "[((5, 14, 20, 29), 1.0201000102521578),\n",
       " ((0, 14, 20, 29), 1.0200999980606142),\n",
       " ((2, 11, 18, 33), 1.0200999968504421),\n",
       " ((10, 14, 20, 29), 1.0200999954886145),\n",
       " ((7, 11, 15, 32), 1.0200999945245564),\n",
       " ((5, 14, 20, 32), 1.0200999920514213),\n",
       " ((7, 12, 15, 32), 1.0200999892529128),\n",
       " ((2, 11, 18, 29), 1.0200999864872113),\n",
       " ((5, 14, 20, 33), 1.0200999864414928),\n",
       " ((5, 14, 27, 32), 1.0200999842289329)]"
      ]
     },
     "execution_count": 31,
     "metadata": {},
     "output_type": "execute_result"
    }
   ],
   "source": [
    "set1"
   ]
  },
  {
   "cell_type": "code",
   "execution_count": 32,
   "metadata": {
    "collapsed": false
   },
   "outputs": [
    {
     "data": {
      "text/plain": [
       "[((26, 28, 29, 33), 1.0020052234096173),\n",
       " ((26, 27, 29, 33), 1.0020052201331757),\n",
       " ((26, 29, 31, 33), 1.0020051899574445),\n",
       " ((9, 26, 29, 33), 1.0020051721291141),\n",
       " ((2, 26, 29, 33), 1.002005168638189),\n",
       " ((26, 29, 30, 33), 1.0020051654666102),\n",
       " ((6, 26, 29, 33), 1.002005163724669),\n",
       " ((3, 26, 29, 33), 1.0020051631158506),\n",
       " ((8, 26, 29, 33), 1.0020051594602768),\n",
       " ((4, 26, 29, 33), 1.0020051560124581)]"
      ]
     },
     "execution_count": 32,
     "metadata": {},
     "output_type": "execute_result"
    }
   ],
   "source": [
    "set2"
   ]
  },
  {
   "cell_type": "code",
   "execution_count": null,
   "metadata": {
    "collapsed": true
   },
   "outputs": [],
   "source": []
  }
 ],
 "metadata": {
  "kernelspec": {
   "display_name": "Python 2",
   "language": "python",
   "name": "python2"
  },
  "language_info": {
   "codemirror_mode": {
    "name": "ipython",
    "version": 2
   },
   "file_extension": ".py",
   "mimetype": "text/x-python",
   "name": "python",
   "nbconvert_exporter": "python",
   "pygments_lexer": "ipython2",
   "version": "2.7.11"
  }
 },
 "nbformat": 4,
 "nbformat_minor": 0
}

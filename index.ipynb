{
 "cells": [
  {
   "cell_type": "markdown",
   "metadata": {},
   "source": [
    "# Initialisation"
   ]
  },
  {
   "cell_type": "code",
   "execution_count": 52,
   "metadata": {
    "code_folding": [],
    "collapsed": false
   },
   "outputs": [],
   "source": [
    "### Load modules and data\n",
    "\n",
    "import numpy as np\n",
    "import itertools as it\n",
    "import matplotlib.pyplot as plt\n",
    "import math\n",
    "from scipy import stats\n",
    "import pdb\n",
    "\n",
    "%matplotlib inline\n"
   ]
  },
  {
   "cell_type": "markdown",
   "metadata": {},
   "source": [
    "# Introduction"
   ]
  },
  {
   "cell_type": "markdown",
   "metadata": {},
   "source": [
    "In this notebook I implement basic fine-mapping methods. Firstly I implement a basic method which calculated Bayes likelihood factors given sets of SNPs with their p-values, and the LD structure calculated from 1000 genomes."
   ]
  },
  {
   "cell_type": "markdown",
   "metadata": {
    "heading_collapsed": true
   },
   "source": [
    "### Single trait Bayes factor computation"
   ]
  },
  {
   "cell_type": "code",
   "execution_count": 6,
   "metadata": {
    "collapsed": false,
    "hidden": true
   },
   "outputs": [],
   "source": [
    "s_tss_1=np.load('summary_stats_g1_tss60.npy')[0]\n",
    "s_tss_2=np.load('summary_stats_g2_tss60.npy')[0]\n",
    "LD_tss_1=np.load('LD_g1_TSS60.npy')\n",
    "LD_tss_2=np.load('LD_g2_TSS60.npy')\n",
    "\n",
    "### Generate z arrays\n",
    "\n",
    "z1 = np.array(np.divide(s_tss_1['beta'],np.sqrt(s_tss_1['var_beta'])))\n",
    "z2 = np.array(np.divide(s_tss_2['beta'],np.sqrt(s_tss_1['var_beta'])))\n",
    "z1 = np.ndarray.flatten(z1)\n",
    "z2 = np.ndarray.flatten(z2)\n",
    "\n",
    "### Create selection of SNPs\n",
    "def select_snps(z, subset):\n",
    "    return [z[i] for i in subset]\n",
    "\n",
    "#example\n",
    "# for subset in it.combinations(range(len(z1)),3):\n",
    "#     print subset, select_snps(z1, subset)    \n",
    "\n",
    "\n",
    "\n",
    "### Select covariance submatrix\n",
    "\n",
    "def select_cov(cov, subset):\n",
    "    return cov[np.ix_(subset,subset)]\n",
    "\n",
    "#example   \n",
    "#select_cov(LD_tss_1, (0,1,5))\n",
    "\n",
    "### Calculate Bayes Factor\n",
    "\n",
    "def calc_BF(z, cov, v,n):\n",
    "    z = np.matrix(z)\n",
    "    z = z.T\n",
    "    v = np.matrix(v)\n",
    "    coeff = 1. / math.sqrt(np.linalg.det((np.matrix(np.eye(len(z))) + n * np.matrix(v) * np.matrix(cov))))\n",
    "    exponent = 0.5* z.T * np.matrix(((n*v).I + cov)).I * z\n",
    "    return np.array(math.log(coeff) + exponent)[0][0]\n",
    "\n",
    "# example\n",
    "# subset = (0,1,5,8)\n",
    "# cov = select_cov(LD_tss_1, subset)\n",
    "# z = select_snps(z1, subset)\n",
    "# v = np.eye(len(z))/1000\n",
    "# n = 1000\n",
    "# calc_BF(z,cov,v,n)\n",
    "\n",
    "def choose_variant_set(data,k,v):\n",
    "    results = []\n",
    "    for i in range(1,k):\n",
    "        for subset in it.combinations(range(len(data[0])),i):\n",
    "            z = select_snps(data[0], subset)\n",
    "            cov = select_cov(data[1],subset)\n",
    "            n = data[2]\n",
    "            v_matrix = np.eye(len(z)) * v\n",
    "            results.append((subset, calc_BF(z, cov,v_matrix,n)))\n",
    "    results.sort(key=lambda x: x[1], reverse=True)\n",
    "    return results[0:10]\n",
    "\n",
    "k=5\n",
    "data1 = (z1, LD_tss_1,10000)\n",
    "data2 = (z2, LD_tss_2,1000)\n",
    "v = 0.01\n",
    "    \n",
    "set1 = choose_variant_set(data1,k,v)\n",
    "set2 = choose_variant_set(data2,k,v)\n",
    "\n"
   ]
  },
  {
   "cell_type": "markdown",
   "metadata": {},
   "source": [
    "### Trait simulation"
   ]
  },
  {
   "cell_type": "markdown",
   "metadata": {},
   "source": [
    "Given genotype data and an LD structure, simulate a trait which is linearly associated with a variant, or a set of variants. Here I generate a large mxn matrix (m=number of samples, n=number of SNPs), with 0,1,2 as elements.\n",
    "\n",
    "Then, I can choose a set of SNPs, and from these SNPs I generate a trait with a linear model with a given parameter beta, as well as an unexplained variance parameter epsilon.\n",
    "\n",
    "Following this, I try to recover these sets of SNPs. I generate p-values for each SNP being associated with the trait, by individually building univariate linear models for each SNPs, as I understand summary statistics are generated."
   ]
  },
  {
   "cell_type": "code",
   "execution_count": 54,
   "metadata": {
    "collapsed": false
   },
   "outputs": [],
   "source": [
    "### Sample genotypes\n",
    "\n",
    "def simulate_genotype(n,m,geno_dist):\n",
    "    X=np.zeros([n,m])\n",
    "    for i in range(m):\n",
    "        X[:,i] = [np.random.choice(a=[0,1,2],p=geno_dist) for x in range(n)]\n",
    "    return np.array(X)\n",
    "\n",
    "###example\n",
    "X = simulate_genotype(n=10000,m=30,geno_dist=[0.85,0.1,0.05])"
   ]
  },
  {
   "cell_type": "code",
   "execution_count": 56,
   "metadata": {
    "collapsed": false
   },
   "outputs": [],
   "source": [
    "def simulate_traits(X,eps,snp_group):\n",
    "    \"\"\"\n",
    "    SNPs in the form e.g. {3: 0.9, 5:0.4, 8:0.5}. Dictionary values are the linear model coefficients (beta values).\n",
    "    eps is the level of unexplained variance. X is the genotype information.\n",
    "    \"\"\"\n",
    "    beta = np.array(snp_group.values()).T\n",
    "    snps = snp_group.keys()\n",
    "    eps_vector = np.array(np.random.normal(0,eps,X.shape[0])).T\n",
    "    return np.add(np.dot(X[:,snps], beta), eps_vector)\n",
    "    \n",
    "###examples\n",
    "y = simulate_traits(X,eps=0.5,snp_group={3: 5, 9: 3})"
   ]
  },
  {
   "cell_type": "code",
   "execution_count": 57,
   "metadata": {
    "collapsed": false
   },
   "outputs": [
    {
     "data": {
      "text/plain": [
       "array([-0.35302832,  9.75995817,  4.50116152, ...,  5.37627002,\n",
       "        6.14513579, -0.64105948])"
      ]
     },
     "execution_count": 57,
     "metadata": {},
     "output_type": "execute_result"
    }
   ],
   "source": [
    "y"
   ]
  },
  {
   "cell_type": "code",
   "execution_count": 12,
   "metadata": {
    "collapsed": false
   },
   "outputs": [
    {
     "data": {
      "text/plain": [
       "(array([ 4418.,  2836.,   800.,   967.,   335.,   150.,   399.,    59.,\n",
       "           12.,    24.]),\n",
       " array([ -1.72848038,   0.14866422,   2.02580882,   3.90295342,\n",
       "          5.78009802,   7.65724262,   9.53438721,  11.41153181,\n",
       "         13.28867641,  15.16582101,  17.04296561]),\n",
       " <a list of 10 Patch objects>)"
      ]
     },
     "execution_count": 12,
     "metadata": {},
     "output_type": "execute_result"
    },
    {
     "data": {
      "image/png": "[encoded data removed]",
      "text/plain": [
       "<matplotlib.figure.Figure at 0x1128f5a90>"
      ]
     },
     "metadata": {},
     "output_type": "display_data"
    }
   ],
   "source": [
    "plt.hist(y)"
   ]
  },
  {
   "cell_type": "code",
   "execution_count": 40,
   "metadata": {
    "collapsed": false
   },
   "outputs": [
    {
     "ename": "ValueError",
     "evalue": "too many values to unpack",
     "output_type": "error",
     "traceback": [
      "\u001b[0;31m---------------------------------------------------------------------------\u001b[0m",
      "\u001b[0;31mValueError\u001b[0m                                Traceback (most recent call last)",
      "\u001b[0;32m<ipython-input-40-be15a27f1db3>\u001b[0m in \u001b[0;36m<module>\u001b[0;34m()\u001b[0m\n\u001b[0;32m----> 1\u001b[0;31m \u001b[0mstats\u001b[0m\u001b[0;34m.\u001b[0m\u001b[0mlinregress\u001b[0m\u001b[0;34m(\u001b[0m\u001b[0mlist\u001b[0m\u001b[0;34m(\u001b[0m\u001b[0mX\u001b[0m\u001b[0;34m[\u001b[0m\u001b[0;34m:\u001b[0m\u001b[0;34m,\u001b[0m\u001b[0;36m1\u001b[0m\u001b[0;34m]\u001b[0m\u001b[0;34m[\u001b[0m\u001b[0;36m0\u001b[0m\u001b[0;34m:\u001b[0m\u001b[0;36m10\u001b[0m\u001b[0;34m]\u001b[0m\u001b[0;34m)\u001b[0m\u001b[0;34m,\u001b[0m\u001b[0mlist\u001b[0m\u001b[0;34m(\u001b[0m\u001b[0my\u001b[0m\u001b[0;34m[\u001b[0m\u001b[0;36m0\u001b[0m\u001b[0;34m:\u001b[0m\u001b[0;36m10\u001b[0m\u001b[0;34m]\u001b[0m\u001b[0;34m)\u001b[0m\u001b[0;34m)\u001b[0m\u001b[0;34m\u001b[0m\u001b[0m\n\u001b[0m",
      "\u001b[0;32m/Users/fonz/anaconda2/envs/fine-mapping/lib/python2.7/site-packages/scipy/stats/_stats_mstats_common.pyc\u001b[0m in \u001b[0;36mlinregress\u001b[0;34m(x, y)\u001b[0m\n\u001b[1;32m     77\u001b[0m \u001b[0;34m\u001b[0m\u001b[0m\n\u001b[1;32m     78\u001b[0m     \u001b[0;31m# average sum of squares:\u001b[0m\u001b[0;34m\u001b[0m\u001b[0;34m\u001b[0m\u001b[0m\n\u001b[0;32m---> 79\u001b[0;31m     \u001b[0mssxm\u001b[0m\u001b[0;34m,\u001b[0m \u001b[0mssxym\u001b[0m\u001b[0;34m,\u001b[0m \u001b[0mssyxm\u001b[0m\u001b[0;34m,\u001b[0m \u001b[0mssym\u001b[0m \u001b[0;34m=\u001b[0m \u001b[0mnp\u001b[0m\u001b[0;34m.\u001b[0m\u001b[0mcov\u001b[0m\u001b[0;34m(\u001b[0m\u001b[0mx\u001b[0m\u001b[0;34m,\u001b[0m \u001b[0my\u001b[0m\u001b[0;34m,\u001b[0m \u001b[0mbias\u001b[0m\u001b[0;34m=\u001b[0m\u001b[0;36m1\u001b[0m\u001b[0;34m)\u001b[0m\u001b[0;34m.\u001b[0m\u001b[0mflat\u001b[0m\u001b[0;34m\u001b[0m\u001b[0m\n\u001b[0m\u001b[1;32m     80\u001b[0m     \u001b[0mr_num\u001b[0m \u001b[0;34m=\u001b[0m \u001b[0mssxym\u001b[0m\u001b[0;34m\u001b[0m\u001b[0m\n\u001b[1;32m     81\u001b[0m     \u001b[0mr_den\u001b[0m \u001b[0;34m=\u001b[0m \u001b[0mnp\u001b[0m\u001b[0;34m.\u001b[0m\u001b[0msqrt\u001b[0m\u001b[0;34m(\u001b[0m\u001b[0mssxm\u001b[0m \u001b[0;34m*\u001b[0m \u001b[0mssym\u001b[0m\u001b[0;34m)\u001b[0m\u001b[0;34m\u001b[0m\u001b[0m\n",
      "\u001b[0;31mValueError\u001b[0m: too many values to unpack"
     ]
    }
   ],
   "source": [
    "stats.linregress(list(X[:,1][0:10]),list(y[0:10]))"
   ]
  },
  {
   "cell_type": "code",
   "execution_count": 48,
   "metadata": {
    "collapsed": false
   },
   "outputs": [
    {
     "data": {
      "text/plain": [
       "(300000,)"
      ]
     },
     "execution_count": 48,
     "metadata": {},
     "output_type": "execute_result"
    }
   ],
   "source": [
    "X.A1.shape"
   ]
  },
  {
   "cell_type": "code",
   "execution_count": 34,
   "metadata": {
    "collapsed": false
   },
   "outputs": [
    {
     "data": {
      "text/plain": [
       "LinregressResult(slope=1.0, intercept=0.0, rvalue=1.0, pvalue=9.0031631615710586e-11, stderr=0.0)"
      ]
     },
     "execution_count": 34,
     "metadata": {},
     "output_type": "execute_result"
    }
   ],
   "source": [
    "stats.linregress([3,2,1], [3,2,1])"
   ]
  },
  {
   "cell_type": "markdown",
   "metadata": {},
   "source": [
    "# Last section"
   ]
  }
 ],
 "metadata": {
  "kernelspec": {
   "display_name": "Python 2",
   "language": "python",
   "name": "python2"
  },
  "language_info": {
   "codemirror_mode": {
    "name": "ipython",
    "version": 2
   },
   "file_extension": ".py",
   "mimetype": "text/x-python",
   "name": "python",
   "nbconvert_exporter": "python",
   "pygments_lexer": "ipython2",
   "version": "2.7.11"
  }
 },
 "nbformat": 4,
 "nbformat_minor": 0
}

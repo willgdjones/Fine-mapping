{
 "cells": [
  {
   "cell_type": "markdown",
   "metadata": {},
   "source": [
    "# Introduction"
   ]
  },
  {
   "cell_type": "markdown",
   "metadata": {},
   "source": [
    "In this notebook I implement a basic fine-mapping method."
   ]
  },
  {
   "cell_type": "markdown",
   "metadata": {},
   "source": [
    "### Load modules and data"
   ]
  },
  {
   "cell_type": "code",
   "execution_count": 8,
   "metadata": {
    "collapsed": false
   },
   "outputs": [],
   "source": [
    "import numpy\n",
    "from matplotlib import pyplot as plt\n",
    "import itertools as it\n",
    "\n",
    "%matplotlib inline\n",
    "\n",
    "s_tss_1=numpy.load('summary_stats_g1_tss60.npy')[0]\n",
    "s_tss_2=numpy.load('summary_stats_g2_tss60.npy')[0]\n",
    "LD_tss_1=numpy.load('LD_g1_TSS60.npy')\n",
    "LD_tss_2=numpy.load('LD_g2_TSS60.npy')"
   ]
  },
  {
   "cell_type": "markdown",
   "metadata": {},
   "source": [
    "### Generate z arrays"
   ]
  },
  {
   "cell_type": "code",
   "execution_count": 90,
   "metadata": {
    "collapsed": true
   },
   "outputs": [],
   "source": [
    "z1 = numpy.array(numpy.divide(s_tss_1['beta'],numpy.sqrt(s_tss_1['var_beta'])))\n",
    "z2 = numpy.array(numpy.divide(s_tss_2['beta'],numpy.sqrt(s_tss_1['var_beta'])))\n",
    "z1 = numpy.ndarray.flatten(z1)\n",
    "z2 = numpy.ndarray.flatten(z2)"
   ]
  },
  {
   "cell_type": "markdown",
   "metadata": {},
   "source": [
    "### Create selection of SNPs"
   ]
  },
  {
   "cell_type": "code",
   "execution_count": 167,
   "metadata": {
    "collapsed": false
   },
   "outputs": [],
   "source": [
    "def select_snps(z, subset):\n",
    "    return [z[i] for i in subset]\n",
    "\n",
    "#example\n",
    "# for subset in it.combinations(range(len(z1)),3):\n",
    "#     print subset, select_snps(z1, subset)    "
   ]
  },
  {
   "cell_type": "markdown",
   "metadata": {},
   "source": [
    "### Select covariance submatrix"
   ]
  },
  {
   "cell_type": "code",
   "execution_count": 166,
   "metadata": {
    "collapsed": false
   },
   "outputs": [],
   "source": [
    "def select_cov(cov, subset):\n",
    "    return cov[numpy.ix_(subset,subset)]\n",
    "\n",
    "#example   \n",
    "#select_cov(LD_tss_1, (0,1,5))"
   ]
  },
  {
   "cell_type": "markdown",
   "metadata": {},
   "source": [
    "### Calculate Bayes Factor"
   ]
  },
  {
   "cell_type": "code",
   "execution_count": 193,
   "metadata": {
    "collapsed": false
   },
   "outputs": [],
   "source": [
    "def calc_BF(z, cov, v):\n",
    "    z = numpy.matrix(z)\n",
    "    z = z.T\n",
    "    v = numpy.matrix(v)\n",
    "    n = len(z)\n",
    "    coeff = numpy.linalg.det((numpy.matrix(numpy.eye(n)) + n * numpy.matrix(v) * numpy.matrix(cov)).I)\n",
    "    exponent = 0.5* z.T * numpy.matrix((n*v.I + cov)).I * z\n",
    "    return numpy.array(coeff * numpy.exp(exponent))[0][0]\n",
    "\n",
    "# example\n",
    "# cov = select_cov(LD_tss_1, (0,1,4,7))\n",
    "# z = select_snps(z1, (0,1,4,7))\n",
    "# v = numpy.eye(len(z))/1000\n",
    "# calc_BF(z,cov,v)\n",
    "\n",
    "\n",
    "    \n",
    "    "
   ]
  },
  {
   "cell_type": "code",
   "execution_count": 220,
   "metadata": {
    "collapsed": false,
    "scrolled": true
   },
   "outputs": [],
   "source": [
    "def choose_variant_set(data,k):\n",
    "    results = []\n",
    "    for i in range(1,k):\n",
    "        for subset in it.combinations(range(len(data[0])),i):\n",
    "            z = select_snps(data[0], subset)\n",
    "            cov = select_cov(data[1],subset)\n",
    "            v = numpy.eye(len(z))/1000\n",
    "            results.append((subset, calc_BF(z, cov,v)))\n",
    "    results.sort(key=lambda x: x[1], reverse=True)\n",
    "    return results[0:10]\n",
    "\n",
    "k=5\n",
    "data = (z1, LD_tss_1)\n",
    "data = (z2, LD_tss_2)\n",
    "    \n",
    "set1 = choose_variant_set((z1, LD_tss_1),k)\n",
    "set2 = choose_variant_set((z2, LD_tss_2),k)"
   ]
  },
  {
   "cell_type": "code",
   "execution_count": 221,
   "metadata": {
    "collapsed": false
   },
   "outputs": [
    {
     "data": {
      "text/plain": [
       "[((29,), 1.2946508909185706),\n",
       " ((26, 29), 1.1748163653482278),\n",
       " ((28, 29), 1.1614149860995089),\n",
       " ((29, 32), 1.1599525170197742),\n",
       " ((29, 30), 1.1597843152040157),\n",
       " ((27, 29), 1.1502598411510934),\n",
       " ((29, 33), 1.1455678596163543),\n",
       " ((14, 29), 1.1349748313852674),\n",
       " ((6, 29), 1.1344972524421446),\n",
       " ((29, 31), 1.1344750945696898)]"
      ]
     },
     "execution_count": 221,
     "metadata": {},
     "output_type": "execute_result"
    }
   ],
   "source": [
    "set1"
   ]
  },
  {
   "cell_type": "code",
   "execution_count": 222,
   "metadata": {
    "collapsed": false
   },
   "outputs": [
    {
     "data": {
      "text/plain": [
       "[((29,), 14.233972108905558),\n",
       " ((29, 33), 6.8693712209155571),\n",
       " ((26, 29), 5.3803984459592282),\n",
       " ((28, 29), 4.8819100892198781),\n",
       " ((26, 29, 33), 4.5599390656398695),\n",
       " ((29, 30), 4.4862638699929311),\n",
       " ((28, 29, 33), 4.2736505828702356),\n",
       " ((27, 29), 4.1863270971450364),\n",
       " ((29, 31), 4.0627197926249368),\n",
       " ((29, 30, 33), 4.0395111813402558)]"
      ]
     },
     "execution_count": 222,
     "metadata": {},
     "output_type": "execute_result"
    }
   ],
   "source": [
    "set2"
   ]
  }
 ],
 "metadata": {
  "kernelspec": {
   "display_name": "Python 2",
   "language": "python",
   "name": "python2"
  },
  "language_info": {
   "codemirror_mode": {
    "name": "ipython",
    "version": 2
   },
   "file_extension": ".py",
   "mimetype": "text/x-python",
   "name": "python",
   "nbconvert_exporter": "python",
   "pygments_lexer": "ipython2",
   "version": "2.7.11"
  }
 },
 "nbformat": 4,
 "nbformat_minor": 0
}
